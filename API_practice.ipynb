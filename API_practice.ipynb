{
 "cells": [
  {
   "cell_type": "code",
   "execution_count": 4,
   "id": "c2f3d610",
   "metadata": {},
   "outputs": [],
   "source": [
    "import numpy as np\n",
    "import pandas as pd\n",
    "\n"
   ]
  },
  {
   "cell_type": "code",
   "execution_count": 5,
   "id": "9d72df70",
   "metadata": {},
   "outputs": [],
   "source": [
    "x = [25.12903645, 25.92017388, 26.62509167, -59.98969384, 37.30571269]\n",
    "y = [-67.59741259, 11.09532135, 74.84233102, -76.89176677, -61.13376282]\n",
    "coordinates = zip(x, y)"
   ]
  },
  {
   "cell_type": "code",
   "execution_count": 6,
   "id": "403d9c07",
   "metadata": {},
   "outputs": [],
   "source": [
    "from citipy import citipy"
   ]
  },
  {
   "cell_type": "code",
   "execution_count": 7,
   "id": "31e0823a",
   "metadata": {},
   "outputs": [
    {
     "name": "stdout",
     "output_type": "stream",
     "text": [
      "25.12903645 -67.59741259\n",
      "25.92017388 11.09532135\n",
      "26.62509167 74.84233102\n",
      "-59.98969384 -76.89176677\n",
      "37.30571269 -61.13376282\n"
     ]
    }
   ],
   "source": [
    "for coordinate in coordinates:\n",
    "    print(coordinate[0],coordinate[1])"
   ]
  },
  {
   "cell_type": "code",
   "execution_count": 8,
   "id": "09cca817",
   "metadata": {},
   "outputs": [
    {
     "name": "stdout",
     "output_type": "stream",
     "text": [
      "cockburn town tc\n",
      "gat ly\n",
      "parvatsar in\n",
      "punta arenas cl\n",
      "saint george bm\n"
     ]
    }
   ],
   "source": [
    "coordinates = zip(x, y)\n",
    "for coordinate in coordinates:\n",
    "    print(citipy.nearest_city(coordinate[0], coordinate[1]).city_name,citipy.nearest_city(coordinate[0], coordinate[1]).country_code)"
   ]
  },
  {
   "cell_type": "code",
   "execution_count": 9,
   "id": "fe1b1cdf",
   "metadata": {},
   "outputs": [],
   "source": [
    "import requests"
   ]
  },
  {
   "cell_type": "code",
   "execution_count": 10,
   "id": "1ef11214",
   "metadata": {},
   "outputs": [],
   "source": [
    "from config import weather_api_key"
   ]
  },
  {
   "cell_type": "code",
   "execution_count": 11,
   "id": "c8ab90f4",
   "metadata": {},
   "outputs": [
    {
     "name": "stdout",
     "output_type": "stream",
     "text": [
      "http://api.openweathermap.org/data/2.5/weather?units=Imperial&APPID=86ddf510ee84f5a109b7fe3fb316b82b\n"
     ]
    }
   ],
   "source": [
    "url = \"http://api.openweathermap.org/data/2.5/weather?units=Imperial&APPID=\" + weather_api_key\n",
    "print(url)\n"
   ]
  },
  {
   "cell_type": "code",
   "execution_count": 105,
   "id": "4d5ceaf9",
   "metadata": {},
   "outputs": [
    {
     "name": "stdout",
     "output_type": "stream",
     "text": [
      "http://api.openweathermap.org/data/2.5/weather?units=Imperial&APPID=86ddf510ee84f5a109b7fe3fb316b82b&q=Boston\n"
     ]
    }
   ],
   "source": [
    "city_url = url + \"&q=\" + \"Boston\"\n",
    "print(city_url)"
   ]
  },
  {
   "cell_type": "code",
   "execution_count": 107,
   "id": "b6a16088",
   "metadata": {},
   "outputs": [
    {
     "data": {
      "text/plain": [
       "200"
      ]
     },
     "execution_count": 107,
     "metadata": {},
     "output_type": "execute_result"
    }
   ],
   "source": [
    "city_weather = requests.get(city_url)\n",
    "city_weather.status_code"
   ]
  },
  {
   "cell_type": "code",
   "execution_count": 109,
   "id": "fd93fa5b",
   "metadata": {},
   "outputs": [
    {
     "data": {
      "text/plain": [
       "<Response [404]>"
      ]
     },
     "execution_count": 109,
     "metadata": {},
     "output_type": "execute_result"
    }
   ],
   "source": [
    "city_url = url + \"&q=\" + \"Bston\"\n",
    "city_weather = requests.get(city_url)\n",
    "city_weather"
   ]
  },
  {
   "cell_type": "code",
   "execution_count": 110,
   "id": "67ebe559",
   "metadata": {},
   "outputs": [
    {
     "data": {
      "text/plain": [
       "<Response [200]>"
      ]
     },
     "execution_count": 110,
     "metadata": {},
     "output_type": "execute_result"
    }
   ],
   "source": [
    "city_url = url + \"&q=\" + \"Boston\"\n",
    "city_weather = requests.get(city_url)\n",
    "city_weather"
   ]
  },
  {
   "cell_type": "code",
   "execution_count": 111,
   "id": "91eb084c",
   "metadata": {},
   "outputs": [
    {
     "data": {
      "text/plain": [
       "'{\"coord\":{\"lon\":-71.0598,\"lat\":42.3584},\"weather\":[{\"id\":804,\"main\":\"Clouds\",\"description\":\"overcast clouds\",\"icon\":\"04n\"}],\"base\":\"stations\",\"main\":{\"temp\":62.96,\"feels_like\":63.37,\"temp_min\":59.36,\"temp_max\":65.79,\"pressure\":1010,\"humidity\":94},\"visibility\":10000,\"wind\":{\"speed\":5.01,\"deg\":340,\"gust\":10},\"clouds\":{\"all\":100},\"dt\":1632875092,\"sys\":{\"type\":2,\"id\":2013408,\"country\":\"US\",\"sunrise\":1632825491,\"sunset\":1632868279},\"timezone\":-14400,\"id\":4930956,\"name\":\"Boston\",\"cod\":200}'"
      ]
     },
     "execution_count": 111,
     "metadata": {},
     "output_type": "execute_result"
    }
   ],
   "source": [
    "city_weather.text"
   ]
  },
  {
   "cell_type": "code",
   "execution_count": 113,
   "id": "79664776",
   "metadata": {},
   "outputs": [
    {
     "data": {
      "text/plain": [
       "{'coord': {'lon': -71.0598, 'lat': 42.3584},\n",
       " 'weather': [{'id': 804,\n",
       "   'main': 'Clouds',\n",
       "   'description': 'overcast clouds',\n",
       "   'icon': '04n'}],\n",
       " 'base': 'stations',\n",
       " 'main': {'temp': 62.96,\n",
       "  'feels_like': 63.37,\n",
       "  'temp_min': 59.36,\n",
       "  'temp_max': 65.79,\n",
       "  'pressure': 1010,\n",
       "  'humidity': 94},\n",
       " 'visibility': 10000,\n",
       " 'wind': {'speed': 5.01, 'deg': 340, 'gust': 10},\n",
       " 'clouds': {'all': 100},\n",
       " 'dt': 1632875092,\n",
       " 'sys': {'type': 2,\n",
       "  'id': 2013408,\n",
       "  'country': 'US',\n",
       "  'sunrise': 1632825491,\n",
       "  'sunset': 1632868279},\n",
       " 'timezone': -14400,\n",
       " 'id': 4930956,\n",
       " 'name': 'Boston',\n",
       " 'cod': 200}"
      ]
     },
     "execution_count": 113,
     "metadata": {},
     "output_type": "execute_result"
    }
   ],
   "source": [
    "city_weather.json()"
   ]
  },
  {
   "cell_type": "code",
   "execution_count": 114,
   "id": "841ed7ca",
   "metadata": {},
   "outputs": [
    {
     "name": "stdout",
     "output_type": "stream",
     "text": [
      "City weather not found.\n"
     ]
    }
   ],
   "source": [
    "# Create an endpoint URL for a city.\n",
    "city_url = url + \"&q=\" + \"Bston\"\n",
    "city_weather = requests.get(city_url)\n",
    "if city_weather.status_code == 200:\n",
    "    print(f\"City Weather found.\")\n",
    "else:\n",
    "    print(f\"City weather not found.\")"
   ]
  },
  {
   "cell_type": "code",
   "execution_count": 115,
   "id": "d1a9ec2c",
   "metadata": {},
   "outputs": [
    {
     "data": {
      "text/plain": [
       "{'coord': {'lon': -71.0598, 'lat': 42.3584},\n",
       " 'weather': [{'id': 804,\n",
       "   'main': 'Clouds',\n",
       "   'description': 'overcast clouds',\n",
       "   'icon': '04n'}],\n",
       " 'base': 'stations',\n",
       " 'main': {'temp': 62.96,\n",
       "  'feels_like': 63.37,\n",
       "  'temp_min': 59.36,\n",
       "  'temp_max': 65.79,\n",
       "  'pressure': 1010,\n",
       "  'humidity': 94},\n",
       " 'visibility': 10000,\n",
       " 'wind': {'speed': 5.01, 'deg': 340, 'gust': 10},\n",
       " 'clouds': {'all': 100},\n",
       " 'dt': 1632875092,\n",
       " 'sys': {'type': 2,\n",
       "  'id': 2013408,\n",
       "  'country': 'US',\n",
       "  'sunrise': 1632825491,\n",
       "  'sunset': 1632868279},\n",
       " 'timezone': -14400,\n",
       " 'id': 4930956,\n",
       " 'name': 'Boston',\n",
       " 'cod': 200}"
      ]
     },
     "execution_count": 115,
     "metadata": {},
     "output_type": "execute_result"
    }
   ],
   "source": [
    "city_url = url + \"&q=\" + \"Boston\"\n",
    "city_weather = requests.get(city_url)\n",
    "city_weather.json()"
   ]
  },
  {
   "cell_type": "code",
   "execution_count": 116,
   "id": "0c7c02d5",
   "metadata": {},
   "outputs": [],
   "source": [
    "boston_data = city_weather.json()"
   ]
  },
  {
   "cell_type": "code",
   "execution_count": 120,
   "id": "59f7bffd",
   "metadata": {},
   "outputs": [
    {
     "data": {
      "text/plain": [
       "{'type': 2,\n",
       " 'id': 2013408,\n",
       " 'country': 'US',\n",
       " 'sunrise': 1632825491,\n",
       " 'sunset': 1632868279}"
      ]
     },
     "execution_count": 120,
     "metadata": {},
     "output_type": "execute_result"
    }
   ],
   "source": [
    "boston_data[\"sys\"]"
   ]
  },
  {
   "cell_type": "code",
   "execution_count": 121,
   "id": "70fbe736",
   "metadata": {},
   "outputs": [
    {
     "data": {
      "text/plain": [
       "'US'"
      ]
     },
     "execution_count": 121,
     "metadata": {},
     "output_type": "execute_result"
    }
   ],
   "source": [
    "boston_data[\"sys\"][\"country\"]"
   ]
  },
  {
   "cell_type": "code",
   "execution_count": 122,
   "id": "8daad389",
   "metadata": {},
   "outputs": [
    {
     "data": {
      "text/plain": [
       "1632875092"
      ]
     },
     "execution_count": 122,
     "metadata": {},
     "output_type": "execute_result"
    }
   ],
   "source": [
    "boston_data[\"dt\"]"
   ]
  },
  {
   "cell_type": "code",
   "execution_count": 123,
   "id": "852c47ff",
   "metadata": {},
   "outputs": [
    {
     "data": {
      "text/plain": [
       "42.3584"
      ]
     },
     "execution_count": 123,
     "metadata": {},
     "output_type": "execute_result"
    }
   ],
   "source": [
    "boston_data['coord']['lat']"
   ]
  },
  {
   "cell_type": "code",
   "execution_count": 124,
   "id": "7b34492f",
   "metadata": {},
   "outputs": [
    {
     "name": "stdout",
     "output_type": "stream",
     "text": [
      "42.3584 -71.0598 65.79 94 100 5.01\n"
     ]
    }
   ],
   "source": [
    "lat = boston_data[\"coord\"][\"lat\"]\n",
    "lng = boston_data[\"coord\"][\"lon\"]\n",
    "max_temp = boston_data[\"main\"][\"temp_max\"]\n",
    "humidity = boston_data[\"main\"][\"humidity\"]\n",
    "clouds = boston_data[\"clouds\"][\"all\"]\n",
    "wind = boston_data[\"wind\"][\"speed\"]\n",
    "print(lat, lng, max_temp, humidity, clouds, wind)"
   ]
  },
  {
   "cell_type": "code",
   "execution_count": 127,
   "id": "fdf912df",
   "metadata": {},
   "outputs": [
    {
     "data": {
      "text/plain": [
       "'21-09-29 00:24:52'"
      ]
     },
     "execution_count": 127,
     "metadata": {},
     "output_type": "execute_result"
    }
   ],
   "source": [
    "from datetime import datetime \n",
    "date=boston_data[\"dt\"]\n",
    "datetime.utcfromtimestamp(date).strftime('%y-%m-%d %H:%M:%S')\n"
   ]
  },
  {
   "cell_type": "code",
   "execution_count": null,
   "id": "3d1f07b0",
   "metadata": {},
   "outputs": [],
   "source": []
  }
 ],
 "metadata": {
  "kernelspec": {
   "display_name": "Python 3",
   "language": "python",
   "name": "python3"
  },
  "language_info": {
   "codemirror_mode": {
    "name": "ipython",
    "version": 3
   },
   "file_extension": ".py",
   "mimetype": "text/x-python",
   "name": "python",
   "nbconvert_exporter": "python",
   "pygments_lexer": "ipython3",
   "version": "3.8.8"
  }
 },
 "nbformat": 4,
 "nbformat_minor": 5
}
