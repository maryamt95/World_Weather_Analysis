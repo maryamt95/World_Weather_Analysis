{
 "cells": [
  {
   "cell_type": "code",
   "execution_count": 1,
   "id": "b37057ca",
   "metadata": {},
   "outputs": [],
   "source": [
    "import random\n",
    "import numpy as np\n",
    "import timeit"
   ]
  },
  {
   "cell_type": "code",
   "execution_count": 2,
   "id": "ff9efab4",
   "metadata": {},
   "outputs": [
    {
     "data": {
      "text/plain": [
       "0.8065766721220445"
      ]
     },
     "execution_count": 2,
     "metadata": {},
     "output_type": "execute_result"
    }
   ],
   "source": [
    "random.random()"
   ]
  },
  {
   "cell_type": "code",
   "execution_count": 4,
   "id": "f30a2a43",
   "metadata": {},
   "outputs": [
    {
     "data": {
      "text/plain": [
       "88"
      ]
     },
     "execution_count": 4,
     "metadata": {},
     "output_type": "execute_result"
    }
   ],
   "source": [
    "random.randint(-90,90)"
   ]
  },
  {
   "cell_type": "code",
   "execution_count": 8,
   "id": "b23459f0",
   "metadata": {},
   "outputs": [
    {
     "data": {
      "text/plain": [
       "-35.71282538565776"
      ]
     },
     "execution_count": 8,
     "metadata": {},
     "output_type": "execute_result"
    }
   ],
   "source": [
    "random_number=random.randint(-90,89)+random.random()\n",
    "random_number"
   ]
  },
  {
   "cell_type": "code",
   "execution_count": 17,
   "id": "d2304485",
   "metadata": {},
   "outputs": [],
   "source": [
    "x=1\n",
    "latitudes=[]\n",
    "while x< 11:\n",
    "    random_lat=random.randint(-90,89)+random.random()\n",
    "    latitudes.append(random_lat)\n",
    "    x+=1"
   ]
  },
  {
   "cell_type": "code",
   "execution_count": 18,
   "id": "072b4518",
   "metadata": {},
   "outputs": [
    {
     "data": {
      "text/plain": [
       "[8.442226533956745,\n",
       " 56.59488192624579,\n",
       " -35.24593960485811,\n",
       " -2.688687812232827,\n",
       " 17.2076250448387,\n",
       " -77.89739243984481,\n",
       " 62.812256637761365,\n",
       " -30.99326478672117,\n",
       " -61.010441822286865,\n",
       " 9.477632687390624]"
      ]
     },
     "execution_count": 18,
     "metadata": {},
     "output_type": "execute_result"
    }
   ],
   "source": [
    "latitudes"
   ]
  },
  {
   "cell_type": "code",
   "execution_count": 25,
   "id": "71a6771d",
   "metadata": {},
   "outputs": [
    {
     "data": {
      "text/plain": [
       "63"
      ]
     },
     "execution_count": 25,
     "metadata": {},
     "output_type": "execute_result"
    }
   ],
   "source": [
    "random.randrange(-90,90,3)"
   ]
  },
  {
   "cell_type": "code",
   "execution_count": 27,
   "id": "3d93dc0e",
   "metadata": {},
   "outputs": [
    {
     "data": {
      "text/plain": [
       "75.65701601036025"
      ]
     },
     "execution_count": 27,
     "metadata": {},
     "output_type": "execute_result"
    }
   ],
   "source": [
    "random.uniform(-90,90)"
   ]
  },
  {
   "cell_type": "code",
   "execution_count": 30,
   "id": "0b0f6389",
   "metadata": {},
   "outputs": [
    {
     "data": {
      "text/plain": [
       "array([ 32.10764669,  29.60523878,  28.29010646, -38.36062022,\n",
       "        16.78853461,  70.32295034,  -5.39618952,  23.9433726 ,\n",
       "        23.66139598,  70.79496792,  37.86912454, -60.02441602,\n",
       "        68.05889584,  83.63622988,  21.09016758, -67.71591919,\n",
       "       -64.64838782,  54.74005536, -53.58178646,   0.09825139,\n",
       "        23.96816691, -31.20647854, -24.97494102,  15.54537362,\n",
       "        41.94226838,   1.45709169, -75.93482969, -30.77297856,\n",
       "         7.32718971, -54.76331358, -36.32693768, -62.4788644 ,\n",
       "        73.22456655, -22.64415118, -81.88951744, -45.20137671,\n",
       "        70.75013338, -82.95468242, -68.62202124, -80.27544554,\n",
       "       -10.37832498,  77.00479884,  -3.5381522 , -25.19167409,\n",
       "        50.25555383,  19.56085568,  43.88471487, -53.3802873 ,\n",
       "       -21.23666293, -25.00973443])"
      ]
     },
     "execution_count": 30,
     "metadata": {},
     "output_type": "execute_result"
    }
   ],
   "source": [
    "np.random.uniform(-90,90,size=50)"
   ]
  },
  {
   "cell_type": "code",
   "execution_count": 47,
   "id": "69a4816a",
   "metadata": {},
   "outputs": [
    {
     "name": "stdout",
     "output_type": "stream",
     "text": [
      "20 µs ± 385 ns per loop (mean ± std. dev. of 7 runs, 10000 loops each)\n"
     ]
    }
   ],
   "source": [
    "%timeit np.random.uniform(-90,90,size=1500)"
   ]
  },
  {
   "cell_type": "code",
   "execution_count": 45,
   "id": "0bbb0979",
   "metadata": {},
   "outputs": [
    {
     "name": "stdout",
     "output_type": "stream",
     "text": [
      "2.9 ms ± 146 µs per loop (mean ± std. dev. of 7 runs, 100 loops each)\n"
     ]
    }
   ],
   "source": [
    "def latitudes(size):\n",
    "    latitudes = []\n",
    "    x = 0\n",
    "    while x < (size):\n",
    "        random_lat = random.randint(-90, 90) + random.random()\n",
    "        latitudes.append(random_lat)\n",
    "        x += 1\n",
    "    return latitudes\n",
    "# Call the function with 1500.\n",
    "%timeit latitudes(1500)"
   ]
  },
  {
   "cell_type": "code",
   "execution_count": 46,
   "id": "f32ba013",
   "metadata": {},
   "outputs": [
    {
     "name": "stdout",
     "output_type": "stream",
     "text": [
      "2.49 µs ± 93.5 ns per loop (mean ± std. dev. of 7 runs, 100000 loops each)\n"
     ]
    }
   ],
   "source": [
    "def latitudes(size):\n",
    "    latitudes = []\n",
    "    x = 0\n",
    "    \n",
    "    for x in range(size):\n",
    "        random_lat = random.randint(-90, 90) + random.random()\n",
    "        latitudes.append(random_lat)\n",
    "        x += 1\n",
    "        return latitudes\n",
    "# Call the function with 1500.\n",
    "%timeit latitudes(1500)"
   ]
  },
  {
   "cell_type": "code",
   "execution_count": 3,
   "id": "cfdc8bfa",
   "metadata": {},
   "outputs": [
    {
     "name": "stdout",
     "output_type": "stream",
     "text": [
      "3.56 µs ± 99.9 ns per loop (mean ± std. dev. of 7 runs, 100000 loops each)\n"
     ]
    }
   ],
   "source": [
    "%timeit np.random.uniform(-90,90,10)"
   ]
  },
  {
   "cell_type": "code",
   "execution_count": null,
   "id": "b76f3cec",
   "metadata": {},
   "outputs": [],
   "source": []
  }
 ],
 "metadata": {
  "kernelspec": {
   "display_name": "PythonData",
   "language": "python",
   "name": "pythondata"
  },
  "language_info": {
   "codemirror_mode": {
    "name": "ipython",
    "version": 3
   },
   "file_extension": ".py",
   "mimetype": "text/x-python",
   "name": "python",
   "nbconvert_exporter": "python",
   "pygments_lexer": "ipython3",
   "version": "3.7.10"
  }
 },
 "nbformat": 4,
 "nbformat_minor": 5
}
